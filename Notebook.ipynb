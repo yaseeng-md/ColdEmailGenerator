{
 "cells": [
  {
   "cell_type": "code",
   "execution_count": 19,
   "id": "2c7d1016-711f-43dd-9a8a-b45c2d095ee5",
   "metadata": {},
   "outputs": [],
   "source": [
    "from langchain_groq import ChatGroq\n",
    "import dotenv\n",
    "import chromadb\n",
    "import os\n",
    "import pandas as pd"
   ]
  },
  {
   "cell_type": "code",
   "execution_count": null,
   "id": "73f086a2-a11e-4a21-92e5-9d2c58fa0b41",
   "metadata": {},
   "outputs": [],
   "source": [
    "llm = ChatGroq(temperature = 0,groq_api_key = \"<apikey>\",model = \"llama-3.3-70b-versatile\")"
   ]
  },
  {
   "cell_type": "code",
   "execution_count": 51,
   "id": "0a62e304-9060-412d-afd0-40c226aff9d3",
   "metadata": {},
   "outputs": [],
   "source": [
    "data = {\n",
    "    \"Project\": [\n",
    "        \"SAR Image Colorization\",\n",
    "        \"Real Time Fight Detection\",\n",
    "        \"Explicit Content Detection\",\n",
    "        \"Optical Content Detection\",\n",
    "        \"Movie recommendation Systems\",\n",
    "        \"Audio DeepFake Detection\",\n",
    "        \"Fraud Detection Systems\",\n",
    "        \"Question and Answering RAGs\"\n",
    "    ],\n",
    "    \"Technologies\": [\n",
    "        \"GANs, PyTorch, Deep Learning, Satellite Images\",\n",
    "        \"OpenCV, Deep Learning, LSTMs, Tensorflow, Scikit-learn\",\n",
    "        \"Transformers, Attention Mechanisms, Deep Learning\",\n",
    "        \"Computer Vision, PyTorch, Vision Models, OCR\",\n",
    "        \"Scikit Learn, Recommendation Systems, Unsupervised Learning\",\n",
    "        \"Deep Learning, PyTorch, Audio, LFCC, MFCC, Librosa\",\n",
    "        \"Scikit Learn, Spacy, NLTK, HuggingFace, XGBoost\",\n",
    "        \"LLMs, Llama, Generative AI, RAGs, Retrieval Augmented Generation\"\n",
    "    ],\n",
    "    \"Link\": [\n",
    "        \"https://github.com/yaseeng-md/SAR_Image_Colorization\",\n",
    "        \"https://github.com/yaseeng-md/Real_Time_Fight_Detection\",\n",
    "        \"https://github.com/yaseeng-md/Explicit-Content-Detection\",\n",
    "        \"https://github.com/yaseeng-md/FineTuning_TrOCR\",\n",
    "        \"https://github.com/yaseeng-md/Movie_recommedation\",\n",
    "        \"https://github.com/yaseeng-md/Audio-DeepFake-Detection\",\n",
    "        \"https://github.com/yaseeng-md/Fraud-Detection-System\",\n",
    "        \"https://github.com/yaseeng-md/Question-And-Answering-RAG\"\n",
    "    ]\n",
    "}\n",
    "\n",
    "df = pd.DataFrame(data)"
   ]
  },
  {
   "cell_type": "code",
   "execution_count": 47,
   "id": "a0f817cf-7e19-484e-9b4d-179fe76b260b",
   "metadata": {},
   "outputs": [],
   "source": [
    "from chromadb import PersistentClient\n",
    "clinet = PersistentClient()\n",
    "collection = clinet.create_collection(name = \"yaseeng\")"
   ]
  },
  {
   "cell_type": "code",
   "execution_count": 49,
   "id": "3658c2f2-f490-472b-8e7d-e2fb4542992a",
   "metadata": {},
   "outputs": [],
   "source": [
    "collection.add(\n",
    "    documents=df[\"Technologies\"].tolist(),\n",
    "    metadatas=df[[\"Project\", \"Link\"]].to_dict(orient=\"records\"),\n",
    "    ids=[str(i) for i in df.index]\n",
    ")"
   ]
  },
  {
   "cell_type": "code",
   "execution_count": 55,
   "id": "36eb8b49-507b-4e98-a993-82731961cce8",
   "metadata": {},
   "outputs": [],
   "source": [
    "from langchain_community.document_loaders import WebBaseLoader\n"
   ]
  },
  {
   "cell_type": "code",
   "execution_count": 102,
   "id": "f9bd3093-50d8-44ad-b587-3df8d033d061",
   "metadata": {},
   "outputs": [],
   "source": [
    "def webLoader(path):\n",
    "    loader = WebBaseLoader(web_path = path)\n",
    "    docs = loader.load()\n",
    "    return docs\n",
    "docs = webLoader(path = \"https://careers.nike.com/distribution-manager-early-late-shift/job/R-63911\")"
   ]
  },
  {
   "cell_type": "code",
   "execution_count": 107,
   "id": "065957de-7465-47f4-90df-59aa09852c8a",
   "metadata": {},
   "outputs": [],
   "source": [
    "page_content = docs[0].page_content"
   ]
  },
  {
   "cell_type": "code",
   "execution_count": 167,
   "id": "258cd3c9-5732-445e-8f3c-8327b349b512",
   "metadata": {},
   "outputs": [],
   "source": [
    "import re\n",
    "\n",
    "def clean_text(text):\n",
    "    text = re.sub(r'<[^>]*?>', '', text)\n",
    "    text = re.sub(r'http[s]?://(?:[a-zA-Z]|[0-9]|[$-_@.&+]|[!*\\\\(\\\\),]|(?:%[0-9a-fA-F][0-9a-fA-F]))+', '', text)\n",
    "    text = re.sub(r'[^a-zA-Z0-9 ]', '', text)\n",
    "    text = re.sub(r'\\s{2,}', ' ', text)\n",
    "    text = text.strip()\n",
    "    text = ' '.join(text.split())\n",
    "    return text"
   ]
  },
  {
   "cell_type": "code",
   "execution_count": 169,
   "id": "196b8915-37e8-4b46-ba85-90cef2abaec9",
   "metadata": {},
   "outputs": [
    {
     "name": "stdout",
     "output_type": "stream",
     "text": [
      "Distribution Manager EarlyLate ShiftSkip to main contentOpen Virtual AssistantHomeCareer AreasTotal RewardsLifeNikePurposeLanguageSelect a Language Deutsch English Espaol Espaa Espaol Amrica Latina Franais Italiano Nederlands Polski Ting Vit Trke CareersClose MenuCareersChat Home Career Areas Total Rewards LifeNike Purpose Jordan CareersConverse CareersLanguageMenuReturn to Previous MenuSelect a Language Deutsch English Espaol Espaa Espaol Amrica Latina Franais Italiano Nederlands Polski Ting Vit Trke Back to Search Distribution Manager EarlyLate ShiftCategories IDCategories URLPosition TypeFull TimeDate PostedPrimary Quest IDSecond Quest IDJob ClassificationCareer areaDistribution Center OperationsLocationNieuwe Dijk 1 Ham Limburg 3945 BelgiumJob IDR63911 Apply Now Share JobShare Job PostingFacebookOpens In A New TabLinkedInLink Opens In New WindowEmailCloseMedium Default SizeiconClose MenuBecome a Part of the NIKE Inc TeamNIKE Inc does more than outfit the worlds best athletes It is a place to explore potential obliterate boundaries and push out the edges of what can be The company looks for people who can grow think dream and create Its culture thrives by embracing diversity and rewarding imagination The brand seeks achievers leaders and visionaries At NIKE Inc its about each person bringing skills and passion to a challenging and constantly evolving gameWHO YOULL WORK WITHAs a Distribution Manager you will be working together with distribution manager colleagues on one of our Omnichannel Distribution Centers DC at our European Logistics Center ELC across Ham and Laakdal in Belgium In the role you will report to the Senior Distribution Manager of either the Ham or Laakdal Campus and lead a team of Coaches 4 to 8 direct reports who are our first line leaders of our athletes employees around 15 per coach team The role requires integration within the unique collaborative structure at Nike ELC with teams of planning transportation maintenance technology HR finance lean more You have regular interfacing with the unions and you will also connect with relevant external suppliersWHO WE ARE LOOKING FORWere looking for Distribution Managers DM Grade 40 to join one of our five Omnichannel Distribution Centers DC at our European Logistics Center ELC across Ham and Laakdal in Belgium This is an outstanding opportunity for you to lead mentor encourage our athletes employees to drive our ELC purposeOn this role you are expected to work on an EarlyLate shift regime Monday to Friday from 6 AM 2 PM with flexibility to align cross shift on Friday as 247 shifts integration happens where all shifts come togetherThe Distribution Managers we are looking to join the team need the following abilitiesTEAM MANAGEMENT You bring validated expertise in terms of leading teams a proven experience is requiredPROVEN EXPERIENCE Operations logistics transportations retailwholesale would be the strongest industry links however we are open to consider leadership profiles from other industries if you bring the motivation to learn curiosity interest in the Nike businessENGLISH Language skills are a must Dutch in most instances is going to give you the ability to act with ease with the varied interfaces you encounter in the roleCHANGE AGILITY Change ambiguity fast paced this is us The market sets our priorities as we move more towards an omnichannel digital focus and put the customer at the center of all we do This means all days are unique Other industries are completely different and realistically you will want to be cognizant of this difference and feel that you would succeed in this environmentGROUNDBREAKING CHANGE We are on a journey and you need to know how to bring people comfortably through change moving them to the future with positive feelings experiencesNONHIERARCHICAL Is our style and we respect a collaboration and modesty in our leadership profilesANALYTICAL With this we mean logisticoperational thinking on a high level We expect you to be able to look for connections in data understanding the impact on the business assessing challenges risks opportunities in the informationWHAT YOULL WORK ONAs a Distribution Manager you are a pivotal talent in the DC not only in relation to the daytoday operational management of your shift but also looking towards the future of the DC development with a continuous improvement mentality goal to bring the process people agenda to the next level The key pillars of the role are passionate about operational management driving culture team setting strategic priorities crafting the futureOPERATIONALStarting your shift youll join up with the previous DM to get an understanding of whats been happening prior to your arrival You take the endtoend view of the upcoming topics You align with all shift DMs to understand how to focus the energy and efforts of your team coaches You meet with your team to discuss targets focus the shift setup changes to strategy and focus on what needs to be achieved how If there are troubles in the process especially in stressful situations you lead and help pull the teams through challenges by providing communications and context and setting the directionDRIVING CULTUREYou are in the lead for bringing improvements to the DC processes and teams You achieve this through creating a sense of belonging and bringing that to the shop floor There are frequent team challenges such as fluctuations in staffing and you lead in stabilising elevating the group through these headwinds You work closely with coaches on development discussions always acting in line with Nikes core valuesTEAM MANAGEMENTAs a real people manager of largescale teams 100 tenurednew FTEs job students temps you mentor and encourage your teams to strengthen our Nike Culture and develop talentteams so that every team member can play at their best You enable athletes to work in a safe and healthy environment where everybody feels respected and you build a positive relationship with our social partnersSTRATEGIC PRIORITIES CRAFTING THE FUTUREYou define a strategic roadmap for the operational areas together with your colleagues xshift and implement a sustainable approach to drive continuous improvement of the processes This will be aligned to Nikes supply chain strategy as well as the complete global Nike strategyPC226 classification outside of PC226 for grades 35Nike grade 40 Deadline to submit applications 1872025 NO RELOCATION AVAILABLE NIKE Inc is a growth company that looks for team members to grow with it Nike offers a generous total rewards package casual work environment a diverse and inclusive culture and an electric atmosphere for professional development No matter the location or the role every Nike employee shares one galvanizing mission To bring inspiration and innovation to every athlete in the worldNIKE Inc is an equal opportunity employer Qualified applicants will receive consideration without regard to race color religion sex national origin age sexual orientation gender identity gender expression veteran status or disability Apply Now Share JobShare Job PostingFacebooxOpens In A New TabLinkedInLink Opens In New WindowEmailCloseMedium Default SizeiconClose MenuWhat You Can ExpectOUR HIRING GAME PLAN01 ApplyOur teams are made up of diverse skillsets knowledge bases inputs ideas and backgrounds We want you to find your fit review job descriptions departments and teams to discover the role for you02 Meet a Recruiter or Take an AssessmentIf selected for a corporate role a recruiter will reach out to start your interview process and be your main contact throughout the process For retail roles youll complete an interactive assessment that includes a chat and quizzes and takes about 1020 minutes to complete No matter the role we want to learn about you the whole you so dont shy away from how you approach worldclass service and what makes you unique03 InterviewGo into this stage confident by doing your research understanding what we are looking for and being prepared for questions that are set up to learn more about you and your backgroundHomeAbout UsContactTalent CommunityTerms Nike Applicant Privacy Policy We offer a number of accommodations to complete our interview process including screen readers sign language interpreters accessible and single location for inperson interviews closed captioning and other reasonable modifications as neededIf you discover as you navigate our application process that you need assistance or an accommodation due to a disability please contact us at 1 5036714156 and include your full name best way to reach you and the accommodation you request to assist with the application processFor more information please refer to Equal Employment Opportunity is The Law Nike Inc All Rights ReservedCareersChatChat with our AI Assistant\n"
     ]
    }
   ],
   "source": [
    "page_content_cleaned = clean_text(page_content)\n",
    "print(page_content_cleaned)"
   ]
  },
  {
   "cell_type": "code",
   "execution_count": 171,
   "id": "660a8d4a-e740-4feb-a3d9-f048f573772f",
   "metadata": {},
   "outputs": [],
   "source": [
    "from langchain_core.prompts import PromptTemplate\n",
    "job_extraction_template = PromptTemplate.from_template(\n",
    "            \"\"\"\n",
    "            ### SCRAPED TEXT FROM WEBSITE:\n",
    "            {page_data}\n",
    "            ### INSTRUCTION:\n",
    "            The scraped text is from the career's page of a website.\n",
    "            Your job is to extract the job postings and return them in JSON format containing the following keys: `role`, `experience`, `skills` and `description`.\n",
    "            Only return the valid JSON.\n",
    "            ### VALID JSON (NO PREAMBLE):\n",
    "            \"\"\"    \n",
    ")\n"
   ]
  },
  {
   "cell_type": "code",
   "execution_count": 173,
   "id": "364bfd5f-42f6-4c65-977b-44e3a46e33a9",
   "metadata": {},
   "outputs": [],
   "source": [
    "job_extract = job_extraction_template | llm"
   ]
  },
  {
   "cell_type": "code",
   "execution_count": 175,
   "id": "eb63650a-625f-4069-96ae-5454f499c856",
   "metadata": {},
   "outputs": [],
   "source": [
    "from langchain_core.output_parsers.json import JsonOutputParser\n"
   ]
  },
  {
   "cell_type": "code",
   "execution_count": 177,
   "id": "87fffb05-a975-4929-962c-1f18eef1fa37",
   "metadata": {},
   "outputs": [],
   "source": [
    "res = job_extract.invoke(input={\"page_data\": page_content_cleaned})\n",
    "\n",
    "json_parser = JsonOutputParser()\n",
    "res = json_parser.parse(res.content)\n"
   ]
  },
  {
   "cell_type": "code",
   "execution_count": 178,
   "id": "49c615da-0c43-4402-9912-42b0ae890046",
   "metadata": {},
   "outputs": [
    {
     "data": {
      "text/plain": [
       "'TEAM MANAGEMENT ENGLISH Language skills Dutch language skills (in most instances) CHANGE AGILITY ANALYTICAL thinking NONHIERARCHICAL leadership'"
      ]
     },
     "execution_count": 178,
     "metadata": {},
     "output_type": "execute_result"
    }
   ],
   "source": [
    "\" \".join(res[\"skills\"])"
   ]
  },
  {
   "cell_type": "code",
   "execution_count": 230,
   "id": "359c91e4-621e-41a5-aa73-d78c5332593e",
   "metadata": {},
   "outputs": [
    {
     "data": {
      "text/plain": [
       "{'role': 'Distribution Manager',\n",
       " 'experience': 'Proven experience in leading teams, operations, logistics, transportation, retail/wholesale',\n",
       " 'skills': ['TEAM MANAGEMENT',\n",
       "  'ENGLISH Language skills',\n",
       "  'Dutch language skills (in most instances)',\n",
       "  'CHANGE AGILITY',\n",
       "  'ANALYTICAL thinking',\n",
       "  'NONHIERARCHICAL leadership'],\n",
       " 'description': 'As a Distribution Manager, you will be working together with distribution manager colleagues on one of our Omnichannel Distribution Centers (DC) at our European Logistics Center (ELC) across Ham and Laakdal in Belgium. You will lead a team of Coaches (4 to 8 direct reports) who are our first line leaders of our athletes (employees) and drive our ELC purpose.'}"
      ]
     },
     "execution_count": 230,
     "metadata": {},
     "output_type": "execute_result"
    }
   ],
   "source": [
    "res"
   ]
  },
  {
   "cell_type": "code",
   "execution_count": 181,
   "id": "4b4ab458-df7b-4c01-a0fa-1b44295b7dc2",
   "metadata": {},
   "outputs": [
    {
     "data": {
      "text/plain": [
       "dict"
      ]
     },
     "execution_count": 181,
     "metadata": {},
     "output_type": "execute_result"
    }
   ],
   "source": [
    "type(res)"
   ]
  },
  {
   "cell_type": "code",
   "execution_count": 183,
   "id": "b76635ed-8599-4373-afb7-81e204cca25a",
   "metadata": {},
   "outputs": [
    {
     "data": {
      "text/plain": [
       "{'ids': [['2', '7']],\n",
       " 'embeddings': None,\n",
       " 'documents': [['Transformers, Attention Mechanisms, Deep Learning',\n",
       "   'LLMs, Llama, Generative AI, RAGs, Retrieval Augmented Generation']],\n",
       " 'uris': None,\n",
       " 'included': ['metadatas', 'documents', 'distances'],\n",
       " 'data': None,\n",
       " 'metadatas': [[{'Project': 'Explicit Content Detection',\n",
       "    'Link': 'https://github.com/yaseeng-md/Explicit-Content-Detection'},\n",
       "   {'Project': 'Question and Answering RAGs',\n",
       "    'Link': 'https://github.com/yaseeng-md/Question-And-Answering-RAG'}]],\n",
       " 'distances': [[1.760313868522644, 1.8060634136199951]]}"
      ]
     },
     "execution_count": 183,
     "metadata": {},
     "output_type": "execute_result"
    }
   ],
   "source": [
    "res_chroma = collection.query(query_texts=\" \".join(res[\"skills\"]),n_results=2)\n",
    "res_chroma"
   ]
  },
  {
   "cell_type": "code",
   "execution_count": 219,
   "id": "19e55903-a879-403f-a758-288ba7d36f2f",
   "metadata": {},
   "outputs": [
    {
     "data": {
      "text/plain": [
       "(['Explicit Content Detection', 'Question and Answering RAGs'],\n",
       " ['https://github.com/yaseeng-md/Explicit-Content-Detection',\n",
       "  'https://github.com/yaseeng-md/Question-And-Answering-RAG'])"
      ]
     },
     "execution_count": 219,
     "metadata": {},
     "output_type": "execute_result"
    }
   ],
   "source": [
    "projects = []\n",
    "links = []\n",
    "for repo in res_chroma[\"metadatas\"][0]:\n",
    "    projects.append(repo[\"Project\"])\n",
    "    links.append(repo[\"Link\"])\n",
    "    # print(repo[\"Project\"])\n",
    "projects,links"
   ]
  },
  {
   "cell_type": "code",
   "execution_count": 234,
   "id": "33695ee6-329c-4e64-8b25-87a724270128",
   "metadata": {},
   "outputs": [],
   "source": [
    "project_links = res_chroma[\"metadatas\"][0]"
   ]
  },
  {
   "cell_type": "code",
   "execution_count": 238,
   "id": "af59c39a-1e53-4aa6-90f5-c03e8c549619",
   "metadata": {},
   "outputs": [],
   "source": [
    "mail_prompt = PromptTemplate.from_template(\n",
    "            \"\"\"\n",
    "            ### JOB DESCRIPTION:\n",
    "            {job_description}\n",
    "\n",
    "            ### CANDIDATE PROFILE:\n",
    "            You are Gandluru Mohammed Yaseen, an Arificial and Machine Learning Post Gradation Student, with experitice in Machine Learning and Generative AI.\n",
    "            You are currently working upon LLM-based Article Summarization Tool using LLama 3B and you have a past experiece as Machine Learning Intern.\n",
    "            You are a Research Student authored \"Attension Based Explicit Content Detection - A Transformer based approcah\".\n",
    "            Your job is to write a cold email to the requirters regarding the job mentioned above describing the capability of you in fulfilling their needs.\n",
    "            Also add the most relevant ones from the following links to showcase Yaseen's portfolio: {project_link}\n",
    "            Remember you are Yaseen, Post Grad Student at LPU. \n",
    "            Do not provide a preamble.\n",
    "            ### EMAIL (NO PREAMBLE):\n",
    "\n",
    "            \"\"\"\n",
    "        )\n",
    "mail_llm = mail_prompt | llm"
   ]
  },
  {
   "cell_type": "code",
   "execution_count": 242,
   "id": "0aa4bcab-8333-4776-8987-6af0d574047a",
   "metadata": {},
   "outputs": [],
   "source": [
    "res_email = mail_llm.invoke(input={\"job_description\" : res, \"project_link\" : project_links })"
   ]
  },
  {
   "cell_type": "code",
   "execution_count": 250,
   "id": "877ca5f8-0d20-44b5-a501-54c3ae5120d5",
   "metadata": {},
   "outputs": [
    {
     "name": "stdout",
     "output_type": "stream",
     "text": [
      "Subject: Application for Distribution Manager Role at European Logistics Center\n",
      "\n",
      "Dear Hiring Manager,\n",
      "\n",
      "I am excited to apply for the Distribution Manager position at your esteemed organization, as advertised. Although my background is in Artificial Intelligence and Machine Learning, I am confident that my skills in team management, analytical thinking, and adaptability make me an ideal candidate for this role.\n",
      "\n",
      "As a Post Gradation Student in Artificial and Machine Learning at Lovely Professional University, I have developed strong analytical and problem-solving skills, which I believe are essential for a Distribution Manager. My experience as a Machine Learning Intern has taught me the importance of teamwork, leadership, and effective communication. I am eager to leverage these skills in a new challenge and contribute to the success of your team.\n",
      "\n",
      "I am particularly drawn to this role because of the emphasis on team management, change agility, and non-hierarchical leadership. My research experience, including authoring a paper on \"Attention Based Explicit Content Detection - A Transformer-based approach,\" has honed my ability to work independently and collaboratively. I am excited about the opportunity to lead a team of Coaches and drive the ELC purpose.\n",
      "\n",
      "While my experience may not be directly related to logistics or distribution, I am a quick learner, and my proficiency in English and basic understanding of Dutch will enable me to communicate effectively with the team. I am confident that my strong work ethic, analytical thinking, and ability to adapt to new situations will make me a valuable asset to your team.\n",
      "\n",
      "I would like to showcase my capabilities through some of my projects, which demonstrate my ability to work on complex problems and collaborate with others. You can find my projects on GitHub, including:\n",
      "\n",
      "* Explicit Content Detection: https://github.com/yaseeng-md/Explicit-Content-Detection\n",
      "* Question and Answering RAGs: https://github.com/yaseeng-md/Question-And-Answering-RAG\n",
      "\n",
      "These projects demonstrate my ability to design, develop, and implement innovative solutions, which I believe will be beneficial in a Distribution Manager role.\n",
      "\n",
      "Thank you for considering my application. I would welcome the opportunity to discuss how my skills and experience align with the requirements of this role. Please do not hesitate to contact me if you require any additional information.\n",
      "\n",
      "Best regards,\n",
      "\n",
      "Gandluru Mohammed Yaseen\n"
     ]
    }
   ],
   "source": [
    "print(res_email.content)"
   ]
  }
 ],
 "metadata": {
  "kernelspec": {
   "display_name": "Python [conda env:base] *",
   "language": "python",
   "name": "conda-base-py"
  },
  "language_info": {
   "codemirror_mode": {
    "name": "ipython",
    "version": 3
   },
   "file_extension": ".py",
   "mimetype": "text/x-python",
   "name": "python",
   "nbconvert_exporter": "python",
   "pygments_lexer": "ipython3",
   "version": "3.12.3"
  }
 },
 "nbformat": 4,
 "nbformat_minor": 5
}
